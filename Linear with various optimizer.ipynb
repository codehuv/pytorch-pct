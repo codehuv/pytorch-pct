{
 "cells": [
  {
   "cell_type": "code",
   "execution_count": 1,
   "metadata": {},
   "outputs": [],
   "source": [
    "#Adagrad, Adam, Adamax, ASGD, LBFGS, RMSprop, Rprop, SGD\n",
    "import torch\n",
    "from torch.autograd import Variable"
   ]
  },
  {
   "cell_type": "code",
   "execution_count": 2,
   "metadata": {},
   "outputs": [],
   "source": [
    "x_data = Variable(torch.Tensor([[1.0],[2.0],[3.0]]))\n",
    "y_data = Variable(torch.Tensor([[2.0],[4.0],[6.0]]))"
   ]
  },
  {
   "cell_type": "code",
   "execution_count": 3,
   "metadata": {},
   "outputs": [],
   "source": [
    "class Model(torch.nn.Module):\n",
    "    def __init__(self):\n",
    "        super(Model, self).__init__()\n",
    "        self.linear =torch.nn.Linear(1,1)\n",
    "    def forward(self, x):\n",
    "        y_pred = self.linear(x)\n",
    "        return y_pred"
   ]
  },
  {
   "cell_type": "code",
   "execution_count": 4,
   "metadata": {},
   "outputs": [],
   "source": [
    "adagrad_model = Model()\n",
    "adam_model = Model()\n",
    "adamax_model = Model()\n",
    "asgd_model = Model()\n",
    "lbfgs_model = Model()\n",
    "rmsprop_model = Model()\n",
    "rprop_model = Model()\n",
    "sgd_model = Model()"
   ]
  },
  {
   "cell_type": "code",
   "execution_count": 5,
   "metadata": {},
   "outputs": [
    {
     "name": "stdout",
     "output_type": "stream",
     "text": [
      "tensor(3.8546)\n"
     ]
    },
    {
     "name": "stderr",
     "output_type": "stream",
     "text": [
      "C:\\ProgramData\\Anaconda3\\lib\\site-packages\\torch\\nn\\_reduction.py:44: UserWarning: size_average and reduce args will be deprecated, please use reduction='sum' instead.\n",
      "  warnings.warn(warning.format(ret))\n"
     ]
    }
   ],
   "source": [
    "#Adagrad\n",
    "criterion = torch.nn.MSELoss(size_average=False)\n",
    "optimizer= torch.optim.Adagrad(adagrad_model.parameters(), lr = 0.01)\n",
    "\n",
    "for epoch in range(500):\n",
    "    y_pred = adagrad_model(x_data)\n",
    "    \n",
    "    loss= criterion(y_pred, y_data)\n",
    "    \n",
    "    optimizer.zero_grad()\n",
    "    loss.backward()\n",
    "    optimizer.step() \n",
    "pred_val = adagrad_model.forward(Variable(torch.Tensor([[4.0]]))).data[0][0]\n",
    "print(pred_val)"
   ]
  },
  {
   "cell_type": "code",
   "execution_count": 6,
   "metadata": {},
   "outputs": [
    {
     "name": "stdout",
     "output_type": "stream",
     "text": [
      "tensor(7.5368)\n"
     ]
    }
   ],
   "source": [
    "#Adam\n",
    "criterion = torch.nn.MSELoss(size_average=False)\n",
    "optimizer= torch.optim.Adam(adam_model.parameters(), lr = 0.01)\n",
    "\n",
    "for epoch in range(500):\n",
    "    y_pred = adam_model(x_data)\n",
    "    \n",
    "    loss= criterion(y_pred, y_data)\n",
    "    \n",
    "    optimizer.zero_grad()\n",
    "    loss.backward()\n",
    "    optimizer.step() \n",
    "pred_val = adam_model.forward(Variable(torch.Tensor([[4.0]]))).data[0][0]\n",
    "print(pred_val)"
   ]
  },
  {
   "cell_type": "code",
   "execution_count": 7,
   "metadata": {},
   "outputs": [
    {
     "name": "stdout",
     "output_type": "stream",
     "text": [
      "tensor(6.5678)\n"
     ]
    }
   ],
   "source": [
    "#Adamax\n",
    "criterion = torch.nn.MSELoss(size_average=False)\n",
    "optimizer= torch.optim.Adamax(adamax_model.parameters(), lr = 0.01)\n",
    "\n",
    "for epoch in range(500):\n",
    "    y_pred = adamax_model(x_data)\n",
    "    \n",
    "    loss= criterion(y_pred, y_data)\n",
    "    \n",
    "    optimizer.zero_grad()\n",
    "    loss.backward()\n",
    "    optimizer.step() \n",
    "pred_val = adamax_model.forward(Variable(torch.Tensor([[4.0]]))).data[0][0]\n",
    "print(pred_val)"
   ]
  },
  {
   "cell_type": "code",
   "execution_count": 8,
   "metadata": {},
   "outputs": [
    {
     "name": "stdout",
     "output_type": "stream",
     "text": [
      "tensor(7.9703)\n"
     ]
    }
   ],
   "source": [
    "#ASGD\n",
    "criterion = torch.nn.MSELoss(size_average=False)\n",
    "optimizer= torch.optim.ASGD(asgd_model.parameters(), lr = 0.01)\n",
    "\n",
    "for epoch in range(500):\n",
    "    y_pred = asgd_model(x_data)\n",
    "    \n",
    "    loss= criterion(y_pred, y_data)\n",
    "    \n",
    "    optimizer.zero_grad()\n",
    "    loss.backward()\n",
    "    optimizer.step() \n",
    "pred_val = asgd_model.forward(Variable(torch.Tensor([[4.0]]))).data[0][0]\n",
    "print(pred_val)"
   ]
  },
  {
   "cell_type": "code",
   "execution_count": 9,
   "metadata": {},
   "outputs": [
    {
     "name": "stdout",
     "output_type": "stream",
     "text": [
      "tensor(8.0000)\n"
     ]
    }
   ],
   "source": [
    "#LBFGS\n",
    "criterion = torch.nn.MSELoss(size_average=False)\n",
    "optimizer= torch.optim.LBFGS(lbfgs_model.parameters(), lr = 0.01)\n",
    "\n",
    "def closure():\n",
    "    optimizer.zero_grad()\n",
    "    y_pred = lbfgs_model(x_data)\n",
    "    loss = criterion(y_pred, y_data)\n",
    "    loss.backward()\n",
    "    return loss\n",
    "\n",
    "for epoch in range(500):\n",
    "    \n",
    "    optimizer.step(closure) \n",
    "pred_val = lbfgs_model.forward(Variable(torch.Tensor([[4.0]]))).data[0][0]\n",
    "print(pred_val)"
   ]
  },
  {
   "cell_type": "code",
   "execution_count": 10,
   "metadata": {},
   "outputs": [
    {
     "name": "stdout",
     "output_type": "stream",
     "text": [
      "tensor(7.3124)\n"
     ]
    }
   ],
   "source": [
    "#RMSprop\n",
    "criterion = torch.nn.MSELoss(size_average=False)\n",
    "optimizer= torch.optim.RMSprop(rmsprop_model.parameters(), lr = 0.01)\n",
    "\n",
    "for epoch in range(500):\n",
    "    y_pred = rmsprop_model(x_data)\n",
    "    \n",
    "    loss= criterion(y_pred, y_data)\n",
    "    \n",
    "    optimizer.zero_grad()\n",
    "    loss.backward()\n",
    "    optimizer.step() \n",
    "pred_val = rmsprop_model.forward(Variable(torch.Tensor([[4.0]]))).data[0][0]\n",
    "print(pred_val)"
   ]
  },
  {
   "cell_type": "code",
   "execution_count": 11,
   "metadata": {},
   "outputs": [
    {
     "name": "stdout",
     "output_type": "stream",
     "text": [
      "tensor(8.0000)\n"
     ]
    }
   ],
   "source": [
    "#Rprop\n",
    "criterion = torch.nn.MSELoss(size_average=False)\n",
    "optimizer= torch.optim.Rprop(rprop_model.parameters(), lr = 0.01)\n",
    "\n",
    "for epoch in range(500):\n",
    "    y_pred = rprop_model(x_data)\n",
    "    \n",
    "    loss= criterion(y_pred, y_data)\n",
    "    \n",
    "    optimizer.zero_grad()\n",
    "    loss.backward()\n",
    "    optimizer.step() \n",
    "pred_val = rprop_model.forward(Variable(torch.Tensor([[4.0]]))).data[0][0]\n",
    "print(pred_val)"
   ]
  },
  {
   "cell_type": "code",
   "execution_count": 12,
   "metadata": {},
   "outputs": [
    {
     "name": "stdout",
     "output_type": "stream",
     "text": [
      "tensor(7.9744)\n"
     ]
    }
   ],
   "source": [
    "#SGD\n",
    "criterion = torch.nn.MSELoss(size_average=False)\n",
    "optimizer= torch.optim.SGD(sgd_model.parameters(), lr = 0.01)\n",
    "\n",
    "for epoch in range(500):\n",
    "    y_pred = sgd_model(x_data)\n",
    "    \n",
    "    loss= criterion(y_pred, y_data)\n",
    "    \n",
    "    optimizer.zero_grad()\n",
    "    loss.backward()\n",
    "    optimizer.step() \n",
    "pred_val = sgd_model.forward(Variable(torch.Tensor([[4.0]]))).data[0][0]\n",
    "print(pred_val)"
   ]
  },
  {
   "cell_type": "markdown",
   "metadata": {},
   "source": [
    "Adagrad : 3.8546\n",
    "Adam : 7.5368\n",
    "Adamax : 6.5678\n",
    "ASGD : 7.9703\n",
    "LBFGS : 8.0000\n",
    "RMSprop : 7.3124\n",
    "Rprop : 8.0000\n",
    "SGD : 7.9744"
   ]
  }
 ],
 "metadata": {
  "kernelspec": {
   "display_name": "Python 3",
   "language": "python",
   "name": "python3"
  },
  "language_info": {
   "codemirror_mode": {
    "name": "ipython",
    "version": 3
   },
   "file_extension": ".py",
   "mimetype": "text/x-python",
   "name": "python",
   "nbconvert_exporter": "python",
   "pygments_lexer": "ipython3",
   "version": "3.7.6"
  }
 },
 "nbformat": 4,
 "nbformat_minor": 4
}
